{
 "cells": [
  {
   "cell_type": "markdown",
   "metadata": {
    "id": "eOi_3EH-zr-5"
   },
   "source": [
    "**Aprendizaje Automático** - 2024\n",
    "# Clase 2: Introducción al Aprendizaje Automático\n"
   ]
  },
  {
   "cell_type": "code",
   "execution_count": 1,
   "metadata": {
    "id": "AZ2h-aHcrxhS"
   },
   "outputs": [],
   "source": [
    "import numpy as np\n",
    "import matplotlib.pyplot as plt\n",
    "import pandas as pd\n",
    "import seaborn as sns\n",
    "from sklearn.metrics import accuracy_score, precision_score, recall_score, f1_score \n "
   ]
  },
  {
   "cell_type": "markdown",
   "metadata": {
    "id": "Myf4v2ebwv-o"
   },
   "source": [
    "# Aprendizaje Inductivo\n",
    "\n",
    "Para esta parte vamos a ver de manera bastante artesanal cómo explorar un problema de clasificación simple y computar algunas medidas de performance. En un futuro, vamos a utilizar librerías específicas que van a facilitar la parte de código, pero para empezar a entender mejor algunos de los conceptos vistos en la teórica, está bueno que en esta práctica nos ensuciemos un poco las manos."
   ]
  },
  {
   "cell_type": "markdown",
   "metadata": {
    "id": "XyRoIYRIf4Pp"
   },
   "source": [
    "## Parte 1: Creación de datos\n",
    "Vamos primero a crear una función auxiliar:\n",
    "\n",
    "```def dataset_sintetico_gausianas(medias, covs, n_puntos, etiquetas)```\n",
    "\n",
    "Si llamamos a esta funcion con:\n",
    "```\n",
    "c1_mean = [0,3]\n",
    "c2_mean = [3,0]\n",
    "c3_mean = [2,3]\n",
    "c4_mean = [1,2]\n",
    "medias = [c1_mean,c2_mean,c3_mean,c4_mean]\n",
    "cov = [[0.4,0],[0,1.2]]\n",
    "covs = [cov,cov,cov,cov]\n",
    "n_puntos = [100,100,100,100]\n",
    "etiquetas = ['A','B','B','A']\n",
    "```\n",
    "\n",
    "Esto significa que tengo cuatro gaussianas bivariadas con distintas medias, y dos corresponden a la clase 'A', y las otras a 'B'. De cada gaussiana muestreo 100 puntos.\n",
    "La función debe devolver un dataframe con los 400 puntos como filas, cada dimensión como columna (en este caso 2 porque la gausiana es bivariada), y una columna extra con nombre 'Clase' que indique si el punto pertenece a 'A' o a 'B'."
   ]
  },
  {
   "cell_type": "markdown",
   "metadata": {
    "id": "FxYVhOYkDEmn"
   },
   "source": [
    " La función *zip()* toma como argumento dos o más objetos iterables (idealmente cada uno de ellos con la misma cantidad de elementos) y retorna un nuevo iterable cuyos elementos son tuplas que contienen un elemento de cada uno de los iteradores originales."
   ]
  },
  {
   "cell_type": "code",
   "execution_count": 2,
   "metadata": {
    "id": "D8jYyki7r3yl"
   },
   "outputs": [],
   "source": [
    "def dataset_sintetico_gausianas(means, covs, points, labels, seed=1234):\n",
    "  all_dfs = []\n",
    "  np.random.seed(seed)\n",
    "\n",
    "  for mean_i,cov_i,points_i,label_i in zip(means,covs,points,labels):\n",
    "    features_i = np.random.multivariate_normal(mean=mean_i, cov=cov_i, size=points_i)\n",
    "    dataset_i = pd.DataFrame(features_i)\n",
    "    dataset_i['Clase'] = label_i\n",
    "    all_dfs.append(dataset_i)\n",
    "\n",
    "  return pd.concat(all_dfs)"
   ]
  },
  {
   "cell_type": "markdown",
   "metadata": {
    "id": "V_gjEdHUGwCL"
   },
   "source": [
    "El código es una función llamada \"dataset_sintetico_gausianas\" que genera un conjunto de datos sintéticos con distribución normal (gausiana). Toma como entrada cuatro parámetros: \"means\" y \"covs\" son listas de matrices que representan las medias y covarianzas de cada distribución normal, respectivamente. \"points\" es una lista de enteros que representa el número de puntos a generar para cada distribución normal. \"labels\" es una lista de etiquetas para cada distribución normal.\n",
    "\n",
    "La función comienza inicializando una lista vacía llamada \"all_dfs\", que se usará para almacenar todos los DataFrames generados. Luego, establece una semilla de aleatoriedad utilizando np.random.seed para garantizar que los resultados sean reproducibles.\n",
    "\n",
    "A continuación, la función itera sobre los cuatro parámetros proporcionados usando la función zip, que combina los elementos correspondientes de las listas \"means\", \"covs\", \"points\" y \"labels\". En cada iteración, la función genera un conjunto de características aleatorias utilizando la función multivariate_normal de la biblioteca NumPy, que toma la media y la matriz de covarianza como parámetros y genera una muestra aleatoria de una distribución normal multivariante. El número de puntos generados se especifica utilizando el parámetro \"points_i\".\n",
    "\n",
    "Los datos generados se almacenan en un DataFrame de Pandas llamado \"dataset_i\", al que se le agrega una columna adicional llamada \"Clase\" que representa la etiqueta correspondiente. El DataFrame se agrega a la lista \"all_dfs\" para su posterior concatenación.\n",
    "\n",
    "Finalmente, la función devuelve el resultado de la concatenación de todos los DataFrames generados, lo que da como resultado un conjunto de datos sintéticos completo con todas las distribuciones normales y etiquetas especificadas."
   ]
  },
  {
   "cell_type": "code",
   "execution_count": 3,
   "metadata": {
    "id": "Yx6fARYetYbz"
   },
   "outputs": [],
   "source": [
    "arr = np.random.multivariate_normal(mean=[0,1,2], cov=[[0.4,0,0],[0,1.2,0],[0,0,2.0]], size=100)"
   ]
  },
  {
   "cell_type": "code",
   "execution_count": 7,
   "metadata": {
    "id": "vRoXXfXGtdij"
   },
   "outputs": [],
   "source": [
    "df= pd.DataFrame(arr)\n",
    "df['Clase'] = 'A'"
   ]
  },
  {
   "cell_type": "code",
   "execution_count": 8,
   "metadata": {
    "colab": {
     "base_uri": "https://localhost:8080/",
     "height": 423
    },
    "id": "slJk16SNuGzn",
    "outputId": "0ae1b283-c300-4220-da4e-1454763f7b93"
   },
   "outputs": [
    {
     "data": {
      "application/vnd.google.colaboratory.intrinsic+json": {
       "summary": "{\n  \"name\": \"df\",\n  \"rows\": 100,\n  \"fields\": [\n    {\n      \"column\": 0,\n      \"properties\": {\n        \"dtype\": \"number\",\n        \"std\": 0.5989623237402455,\n        \"min\": -1.5955826658538634,\n        \"max\": 1.4295522416804118,\n        \"num_unique_values\": 100,\n        \"samples\": [\n          -0.5482208407509681,\n          -0.009222728931560892,\n          0.23714580377567826\n        ],\n        \"semantic_type\": \"\",\n        \"description\": \"\"\n      }\n    },\n    {\n      \"column\": 1,\n      \"properties\": {\n        \"dtype\": \"number\",\n        \"std\": 1.05888667299188,\n        \"min\": -1.4508746085241033,\n        \"max\": 3.7968478872052507,\n        \"num_unique_values\": 100,\n        \"samples\": [\n          1.4013552130543836,\n          1.1408197041597312,\n          1.3618372044362506\n        ],\n        \"semantic_type\": \"\",\n        \"description\": \"\"\n      }\n    },\n    {\n      \"column\": 2,\n      \"properties\": {\n        \"dtype\": \"number\",\n        \"std\": 1.2993507877896835,\n        \"min\": -0.7812740565821592,\n        \"max\": 5.228566949823657,\n        \"num_unique_values\": 100,\n        \"samples\": [\n          3.0545309546492785,\n          1.5471521562413408,\n          3.7382688882796287\n        ],\n        \"semantic_type\": \"\",\n        \"description\": \"\"\n      }\n    },\n    {\n      \"column\": \"Clase\",\n      \"properties\": {\n        \"dtype\": \"category\",\n        \"num_unique_values\": 1,\n        \"samples\": [\n          \"A\"\n        ],\n        \"semantic_type\": \"\",\n        \"description\": \"\"\n      }\n    }\n  ]\n}",
       "type": "dataframe",
       "variable_name": "df"
      },
      "text/html": [
       "\n",
       "  <div id=\"df-d3992144-c657-47e6-ae4a-616ecb3a4e5b\" class=\"colab-df-container\">\n",
       "    <div>\n",
       "<style scoped>\n",
       "    .dataframe tbody tr th:only-of-type {\n",
       "        vertical-align: middle;\n",
       "    }\n",
       "\n",
       "    .dataframe tbody tr th {\n",
       "        vertical-align: top;\n",
       "    }\n",
       "\n",
       "    .dataframe thead th {\n",
       "        text-align: right;\n",
       "    }\n",
       "</style>\n",
       "<table border=\"1\" class=\"dataframe\">\n",
       "  <thead>\n",
       "    <tr style=\"text-align: right;\">\n",
       "      <th></th>\n",
       "      <th>0</th>\n",
       "      <th>1</th>\n",
       "      <th>2</th>\n",
       "      <th>Clase</th>\n",
       "    </tr>\n",
       "  </thead>\n",
       "  <tbody>\n",
       "    <tr>\n",
       "      <th>0</th>\n",
       "      <td>0.681211</td>\n",
       "      <td>1.397444</td>\n",
       "      <td>0.545740</td>\n",
       "      <td>A</td>\n",
       "    </tr>\n",
       "    <tr>\n",
       "      <th>1</th>\n",
       "      <td>0.370552</td>\n",
       "      <td>0.676270</td>\n",
       "      <td>2.506996</td>\n",
       "      <td>A</td>\n",
       "    </tr>\n",
       "    <tr>\n",
       "      <th>2</th>\n",
       "      <td>-0.751170</td>\n",
       "      <td>1.803414</td>\n",
       "      <td>2.273063</td>\n",
       "      <td>A</td>\n",
       "    </tr>\n",
       "    <tr>\n",
       "      <th>3</th>\n",
       "      <td>-0.154274</td>\n",
       "      <td>-0.304290</td>\n",
       "      <td>3.539345</td>\n",
       "      <td>A</td>\n",
       "    </tr>\n",
       "    <tr>\n",
       "      <th>4</th>\n",
       "      <td>-0.679519</td>\n",
       "      <td>2.342631</td>\n",
       "      <td>0.721976</td>\n",
       "      <td>A</td>\n",
       "    </tr>\n",
       "    <tr>\n",
       "      <th>...</th>\n",
       "      <td>...</td>\n",
       "      <td>...</td>\n",
       "      <td>...</td>\n",
       "      <td>...</td>\n",
       "    </tr>\n",
       "    <tr>\n",
       "      <th>95</th>\n",
       "      <td>-0.049226</td>\n",
       "      <td>1.858749</td>\n",
       "      <td>1.443400</td>\n",
       "      <td>A</td>\n",
       "    </tr>\n",
       "    <tr>\n",
       "      <th>96</th>\n",
       "      <td>0.436340</td>\n",
       "      <td>-0.389553</td>\n",
       "      <td>3.934886</td>\n",
       "      <td>A</td>\n",
       "    </tr>\n",
       "    <tr>\n",
       "      <th>97</th>\n",
       "      <td>0.279098</td>\n",
       "      <td>2.995781</td>\n",
       "      <td>2.548959</td>\n",
       "      <td>A</td>\n",
       "    </tr>\n",
       "    <tr>\n",
       "      <th>98</th>\n",
       "      <td>-0.133878</td>\n",
       "      <td>1.208830</td>\n",
       "      <td>0.346214</td>\n",
       "      <td>A</td>\n",
       "    </tr>\n",
       "    <tr>\n",
       "      <th>99</th>\n",
       "      <td>-0.933679</td>\n",
       "      <td>1.490186</td>\n",
       "      <td>0.610351</td>\n",
       "      <td>A</td>\n",
       "    </tr>\n",
       "  </tbody>\n",
       "</table>\n",
       "<p>100 rows × 4 columns</p>\n",
       "</div>\n",
       "    <div class=\"colab-df-buttons\">\n",
       "\n",
       "  <div class=\"colab-df-container\">\n",
       "    <button class=\"colab-df-convert\" onclick=\"convertToInteractive('df-d3992144-c657-47e6-ae4a-616ecb3a4e5b')\"\n",
       "            title=\"Convert this dataframe to an interactive table.\"\n",
       "            style=\"display:none;\">\n",
       "\n",
       "  <svg xmlns=\"http://www.w3.org/2000/svg\" height=\"24px\" viewBox=\"0 -960 960 960\">\n",
       "    <path d=\"M120-120v-720h720v720H120Zm60-500h600v-160H180v160Zm220 220h160v-160H400v160Zm0 220h160v-160H400v160ZM180-400h160v-160H180v160Zm440 0h160v-160H620v160ZM180-180h160v-160H180v160Zm440 0h160v-160H620v160Z\"/>\n",
       "  </svg>\n",
       "    </button>\n",
       "\n",
       "  <style>\n",
       "    .colab-df-container {\n",
       "      display:flex;\n",
       "      gap: 12px;\n",
       "    }\n",
       "\n",
       "    .colab-df-convert {\n",
       "      background-color: #E8F0FE;\n",
       "      border: none;\n",
       "      border-radius: 50%;\n",
       "      cursor: pointer;\n",
       "      display: none;\n",
       "      fill: #1967D2;\n",
       "      height: 32px;\n",
       "      padding: 0 0 0 0;\n",
       "      width: 32px;\n",
       "    }\n",
       "\n",
       "    .colab-df-convert:hover {\n",
       "      background-color: #E2EBFA;\n",
       "      box-shadow: 0px 1px 2px rgba(60, 64, 67, 0.3), 0px 1px 3px 1px rgba(60, 64, 67, 0.15);\n",
       "      fill: #174EA6;\n",
       "    }\n",
       "\n",
       "    .colab-df-buttons div {\n",
       "      margin-bottom: 4px;\n",
       "    }\n",
       "\n",
       "    [theme=dark] .colab-df-convert {\n",
       "      background-color: #3B4455;\n",
       "      fill: #D2E3FC;\n",
       "    }\n",
       "\n",
       "    [theme=dark] .colab-df-convert:hover {\n",
       "      background-color: #434B5C;\n",
       "      box-shadow: 0px 1px 3px 1px rgba(0, 0, 0, 0.15);\n",
       "      filter: drop-shadow(0px 1px 2px rgba(0, 0, 0, 0.3));\n",
       "      fill: #FFFFFF;\n",
       "    }\n",
       "  </style>\n",
       "\n",
       "    <script>\n",
       "      const buttonEl =\n",
       "        document.querySelector('#df-d3992144-c657-47e6-ae4a-616ecb3a4e5b button.colab-df-convert');\n",
       "      buttonEl.style.display =\n",
       "        google.colab.kernel.accessAllowed ? 'block' : 'none';\n",
       "\n",
       "      async function convertToInteractive(key) {\n",
       "        const element = document.querySelector('#df-d3992144-c657-47e6-ae4a-616ecb3a4e5b');\n",
       "        const dataTable =\n",
       "          await google.colab.kernel.invokeFunction('convertToInteractive',\n",
       "                                                    [key], {});\n",
       "        if (!dataTable) return;\n",
       "\n",
       "        const docLinkHtml = 'Like what you see? Visit the ' +\n",
       "          '<a target=\"_blank\" href=https://colab.research.google.com/notebooks/data_table.ipynb>data table notebook</a>'\n",
       "          + ' to learn more about interactive tables.';\n",
       "        element.innerHTML = '';\n",
       "        dataTable['output_type'] = 'display_data';\n",
       "        await google.colab.output.renderOutput(dataTable, element);\n",
       "        const docLink = document.createElement('div');\n",
       "        docLink.innerHTML = docLinkHtml;\n",
       "        element.appendChild(docLink);\n",
       "      }\n",
       "    </script>\n",
       "  </div>\n",
       "\n",
       "\n",
       "    <div id=\"df-ce7955f6-a55d-44d9-95c2-212898320838\">\n",
       "      <button class=\"colab-df-quickchart\" onclick=\"quickchart('df-ce7955f6-a55d-44d9-95c2-212898320838')\"\n",
       "                title=\"Suggest charts\"\n",
       "                style=\"display:none;\">\n",
       "\n",
       "<svg xmlns=\"http://www.w3.org/2000/svg\" height=\"24px\"viewBox=\"0 0 24 24\"\n",
       "     width=\"24px\">\n",
       "    <g>\n",
       "        <path d=\"M19 3H5c-1.1 0-2 .9-2 2v14c0 1.1.9 2 2 2h14c1.1 0 2-.9 2-2V5c0-1.1-.9-2-2-2zM9 17H7v-7h2v7zm4 0h-2V7h2v10zm4 0h-2v-4h2v4z\"/>\n",
       "    </g>\n",
       "</svg>\n",
       "      </button>\n",
       "\n",
       "<style>\n",
       "  .colab-df-quickchart {\n",
       "      --bg-color: #E8F0FE;\n",
       "      --fill-color: #1967D2;\n",
       "      --hover-bg-color: #E2EBFA;\n",
       "      --hover-fill-color: #174EA6;\n",
       "      --disabled-fill-color: #AAA;\n",
       "      --disabled-bg-color: #DDD;\n",
       "  }\n",
       "\n",
       "  [theme=dark] .colab-df-quickchart {\n",
       "      --bg-color: #3B4455;\n",
       "      --fill-color: #D2E3FC;\n",
       "      --hover-bg-color: #434B5C;\n",
       "      --hover-fill-color: #FFFFFF;\n",
       "      --disabled-bg-color: #3B4455;\n",
       "      --disabled-fill-color: #666;\n",
       "  }\n",
       "\n",
       "  .colab-df-quickchart {\n",
       "    background-color: var(--bg-color);\n",
       "    border: none;\n",
       "    border-radius: 50%;\n",
       "    cursor: pointer;\n",
       "    display: none;\n",
       "    fill: var(--fill-color);\n",
       "    height: 32px;\n",
       "    padding: 0;\n",
       "    width: 32px;\n",
       "  }\n",
       "\n",
       "  .colab-df-quickchart:hover {\n",
       "    background-color: var(--hover-bg-color);\n",
       "    box-shadow: 0 1px 2px rgba(60, 64, 67, 0.3), 0 1px 3px 1px rgba(60, 64, 67, 0.15);\n",
       "    fill: var(--button-hover-fill-color);\n",
       "  }\n",
       "\n",
       "  .colab-df-quickchart-complete:disabled,\n",
       "  .colab-df-quickchart-complete:disabled:hover {\n",
       "    background-color: var(--disabled-bg-color);\n",
       "    fill: var(--disabled-fill-color);\n",
       "    box-shadow: none;\n",
       "  }\n",
       "\n",
       "  .colab-df-spinner {\n",
       "    border: 2px solid var(--fill-color);\n",
       "    border-color: transparent;\n",
       "    border-bottom-color: var(--fill-color);\n",
       "    animation:\n",
       "      spin 1s steps(1) infinite;\n",
       "  }\n",
       "\n",
       "  @keyframes spin {\n",
       "    0% {\n",
       "      border-color: transparent;\n",
       "      border-bottom-color: var(--fill-color);\n",
       "      border-left-color: var(--fill-color);\n",
       "    }\n",
       "    20% {\n",
       "      border-color: transparent;\n",
       "      border-left-color: var(--fill-color);\n",
       "      border-top-color: var(--fill-color);\n",
       "    }\n",
       "    30% {\n",
       "      border-color: transparent;\n",
       "      border-left-color: var(--fill-color);\n",
       "      border-top-color: var(--fill-color);\n",
       "      border-right-color: var(--fill-color);\n",
       "    }\n",
       "    40% {\n",
       "      border-color: transparent;\n",
       "      border-right-color: var(--fill-color);\n",
       "      border-top-color: var(--fill-color);\n",
       "    }\n",
       "    60% {\n",
       "      border-color: transparent;\n",
       "      border-right-color: var(--fill-color);\n",
       "    }\n",
       "    80% {\n",
       "      border-color: transparent;\n",
       "      border-right-color: var(--fill-color);\n",
       "      border-bottom-color: var(--fill-color);\n",
       "    }\n",
       "    90% {\n",
       "      border-color: transparent;\n",
       "      border-bottom-color: var(--fill-color);\n",
       "    }\n",
       "  }\n",
       "</style>\n",
       "\n",
       "      <script>\n",
       "        async function quickchart(key) {\n",
       "          const quickchartButtonEl =\n",
       "            document.querySelector('#' + key + ' button');\n",
       "          quickchartButtonEl.disabled = true;  // To prevent multiple clicks.\n",
       "          quickchartButtonEl.classList.add('colab-df-spinner');\n",
       "          try {\n",
       "            const charts = await google.colab.kernel.invokeFunction(\n",
       "                'suggestCharts', [key], {});\n",
       "          } catch (error) {\n",
       "            console.error('Error during call to suggestCharts:', error);\n",
       "          }\n",
       "          quickchartButtonEl.classList.remove('colab-df-spinner');\n",
       "          quickchartButtonEl.classList.add('colab-df-quickchart-complete');\n",
       "        }\n",
       "        (() => {\n",
       "          let quickchartButtonEl =\n",
       "            document.querySelector('#df-ce7955f6-a55d-44d9-95c2-212898320838 button');\n",
       "          quickchartButtonEl.style.display =\n",
       "            google.colab.kernel.accessAllowed ? 'block' : 'none';\n",
       "        })();\n",
       "      </script>\n",
       "    </div>\n",
       "\n",
       "  <div id=\"id_9b980a5e-4517-42e1-9f3d-1e9c85f4db29\">\n",
       "    <style>\n",
       "      .colab-df-generate {\n",
       "        background-color: #E8F0FE;\n",
       "        border: none;\n",
       "        border-radius: 50%;\n",
       "        cursor: pointer;\n",
       "        display: none;\n",
       "        fill: #1967D2;\n",
       "        height: 32px;\n",
       "        padding: 0 0 0 0;\n",
       "        width: 32px;\n",
       "      }\n",
       "\n",
       "      .colab-df-generate:hover {\n",
       "        background-color: #E2EBFA;\n",
       "        box-shadow: 0px 1px 2px rgba(60, 64, 67, 0.3), 0px 1px 3px 1px rgba(60, 64, 67, 0.15);\n",
       "        fill: #174EA6;\n",
       "      }\n",
       "\n",
       "      [theme=dark] .colab-df-generate {\n",
       "        background-color: #3B4455;\n",
       "        fill: #D2E3FC;\n",
       "      }\n",
       "\n",
       "      [theme=dark] .colab-df-generate:hover {\n",
       "        background-color: #434B5C;\n",
       "        box-shadow: 0px 1px 3px 1px rgba(0, 0, 0, 0.15);\n",
       "        filter: drop-shadow(0px 1px 2px rgba(0, 0, 0, 0.3));\n",
       "        fill: #FFFFFF;\n",
       "      }\n",
       "    </style>\n",
       "    <button class=\"colab-df-generate\" onclick=\"generateWithVariable('df')\"\n",
       "            title=\"Generate code using this dataframe.\"\n",
       "            style=\"display:none;\">\n",
       "\n",
       "  <svg xmlns=\"http://www.w3.org/2000/svg\" height=\"24px\"viewBox=\"0 0 24 24\"\n",
       "       width=\"24px\">\n",
       "    <path d=\"M7,19H8.4L18.45,9,17,7.55,7,17.6ZM5,21V16.75L18.45,3.32a2,2,0,0,1,2.83,0l1.4,1.43a1.91,1.91,0,0,1,.58,1.4,1.91,1.91,0,0,1-.58,1.4L9.25,21ZM18.45,9,17,7.55Zm-12,3A5.31,5.31,0,0,0,4.9,8.1,5.31,5.31,0,0,0,1,6.5,5.31,5.31,0,0,0,4.9,4.9,5.31,5.31,0,0,0,6.5,1,5.31,5.31,0,0,0,8.1,4.9,5.31,5.31,0,0,0,12,6.5,5.46,5.46,0,0,0,6.5,12Z\"/>\n",
       "  </svg>\n",
       "    </button>\n",
       "    <script>\n",
       "      (() => {\n",
       "      const buttonEl =\n",
       "        document.querySelector('#id_9b980a5e-4517-42e1-9f3d-1e9c85f4db29 button.colab-df-generate');\n",
       "      buttonEl.style.display =\n",
       "        google.colab.kernel.accessAllowed ? 'block' : 'none';\n",
       "\n",
       "      buttonEl.onclick = () => {\n",
       "        google.colab.notebook.generateWithVariable('df');\n",
       "      }\n",
       "      })();\n",
       "    </script>\n",
       "  </div>\n",
       "\n",
       "    </div>\n",
       "  </div>\n"
      ],
      "text/plain": [
       "           0         1         2 Clase\n",
       "0   0.681211  1.397444  0.545740     A\n",
       "1   0.370552  0.676270  2.506996     A\n",
       "2  -0.751170  1.803414  2.273063     A\n",
       "3  -0.154274 -0.304290  3.539345     A\n",
       "4  -0.679519  2.342631  0.721976     A\n",
       "..       ...       ...       ...   ...\n",
       "95 -0.049226  1.858749  1.443400     A\n",
       "96  0.436340 -0.389553  3.934886     A\n",
       "97  0.279098  2.995781  2.548959     A\n",
       "98 -0.133878  1.208830  0.346214     A\n",
       "99 -0.933679  1.490186  0.610351     A\n",
       "\n",
       "[100 rows x 4 columns]"
      ]
     },
     "execution_count": 8,
     "metadata": {},
     "output_type": "execute_result"
    }
   ],
   "source": [
    "df"
   ]
  },
  {
   "cell_type": "markdown",
   "metadata": {
    "id": "ptWm_X1Hwmbm"
   },
   "source": [
    "Realicemos un scatter plot de los datos creados con los parámetros de ejemplo:"
   ]
  },
  {
   "cell_type": "code",
   "execution_count": 9,
   "metadata": {
    "colab": {
     "base_uri": "https://localhost:8080/",
     "height": 637
    },
    "id": "AtkSVOkv4Wyz",
    "outputId": "9f94cc14-bf4f-40c0-c58c-60e40d442fa7"
   },
   "outputs": [
    {
     "data": {
      "text/plain": [
       "<Axes: xlabel='0', ylabel='1'>"
      ]
     },
     "execution_count": 9,
     "metadata": {},
     "output_type": "execute_result"
    },
    {
     "data": {
      "image/png": "[encoded data removed]",
      "text/plain": [
       "<Figure size 700x700 with 1 Axes>"
      ]
     },
     "metadata": {},
     "output_type": "display_data"
    }
   ],
   "source": [
    "cov = [[0.4,0],[0,1.2]]\n",
    "c1_mean = [0,3]\n",
    "c2_mean = [3,0]\n",
    "c3_mean = [2,3]\n",
    "c4_mean = [1,2]\n",
    "\n",
    "dataset = dataset_sintetico_gausianas([c1_mean,c2_mean,c3_mean,c4_mean], [cov,cov,cov,cov], [100,100,100,100], ['A','B','B','A'])\n",
    "\n",
    "plt.figure(figsize=(7,7))\n",
    "sns.scatterplot(x=0, y=1, hue='Clase', data=dataset, palette={'A':'red','B':'blue'})"
   ]
  },
  {
   "cell_type": "markdown",
   "metadata": {
    "id": "jiNw4-VB1HTc"
   },
   "source": [
    "## Parte 2: Definir un ajuste intuitivo\n"
   ]
  },
  {
   "cell_type": "markdown",
   "metadata": {
    "id": "JorXIsS47Z-K"
   },
   "source": [
    "Vamos a tratar de encontrar una manera intuitiva de encontrar un punto de corte para separar los datos en dos clases.\n",
    "\n",
    "Para ello vamos a aprender a hacer gráficos interactivos y utilizando sliders encontrar el mejor valor para separar los datos. Primero, importemos las bibliotecas que necesitaremos para crear nuestro gráfico interactivo."
   ]
  },
  {
   "cell_type": "code",
   "execution_count": 10,
   "metadata": {
    "id": "1Z-DA9cn8KrG"
   },
   "outputs": [],
   "source": [
    "from ipywidgets import interact"
   ]
  },
  {
   "cell_type": "markdown",
   "metadata": {
    "id": "X7PEgdCq8S5y"
   },
   "source": [
    "Ahora, crearemos una función que dibujará el gráfico que queremos hacer donde tendremos una recta controlada un slider para ajustar su intersección en el eje y."
   ]
  },
  {
   "cell_type": "code",
   "execution_count": 11,
   "metadata": {
    "id": "G4lAYnYD8uei"
   },
   "outputs": [],
   "source": [
    "def plot_line(b):\n",
    "    cov = [[0.4,0],[0,1.2]]\n",
    "    c1_mean = [0,3]\n",
    "    c2_mean = [3,0]\n",
    "    c3_mean = [2,3]\n",
    "    c4_mean = [1,2]\n",
    "    dataset = dataset_sintetico_gausianas([c1_mean,c2_mean,c3_mean,c4_mean], [cov,cov,cov,cov], [100,100,100,100], ['A','B','B','A'])\n",
    "\n",
    "    fig, ax = plt.subplots()\n",
    "    sns.scatterplot(x=0, y=1, hue='Clase', data=dataset, palette={'A':'red','B':'blue'})\n",
    "\n",
    "    plt.axvline(x=b, c='k', lw=3)\n",
    "\n",
    "    ax.set_xlim(-3, 5)\n",
    "    ax.set_ylim(-4, 6)\n",
    "    plt.show()"
   ]
  },
  {
   "cell_type": "code",
   "execution_count": 12,
   "metadata": {
    "colab": {
     "base_uri": "https://localhost:8080/",
     "height": 574,
     "referenced_widgets": [
      "9e0b6eb22b3047c9894b377ce1012a78",
      "6424b57025994b19add87b0520001b9c",
      "cec0f652fda4472b85b9ebbbba8d5f76",
      "af172849320a4d479b3041ff96ef4527",
      "df091c7453f446dab3efd9ba98f4daac",
      "d0795b8275ac4cf7b710abae4fdd7d2a",
      "f07776a5c63b4fe696869f5d78dc3022"
     ]
    },
    "id": "SJnRjXJW9GA_",
    "outputId": "be886102-83a0-4e68-9e6b-d4ebebf9cbd9"
   },
   "outputs": [
    {
     "data": {
      "application/vnd.jupyter.widget-view+json": {
       "model_id": "9e0b6eb22b3047c9894b377ce1012a78",
       "version_major": 2,
       "version_minor": 0
      },
      "text/plain": [
       "interactive(children=(FloatSlider(value=0.0, description='b', max=5.0, min=-5.0), Output()), _dom_classes=('wi…"
      ]
     },
     "metadata": {},
     "output_type": "display_data"
    },
    {
     "data": {
      "text/html": [
       "<div style=\"max-width:800px; border: 1px solid var(--colab-border-color);\"><style>\n",
       "      pre.function-repr-contents {\n",
       "        overflow-x: auto;\n",
       "        padding: 8px 12px;\n",
       "        max-height: 500px;\n",
       "      }\n",
       "\n",
       "      pre.function-repr-contents.function-repr-contents-collapsed {\n",
       "        cursor: pointer;\n",
       "        max-height: 100px;\n",
       "      }\n",
       "    </style>\n",
       "    <pre style=\"white-space: initial; background:\n",
       "         var(--colab-secondary-surface-color); padding: 8px 12px;\n",
       "         border-bottom: 1px solid var(--colab-border-color);\"><b>plot_line</b><br/>def plot_line(b)</pre><pre class=\"function-repr-contents function-repr-contents-collapsed\" style=\"\"><a class=\"filepath\" style=\"display:none\" href=\"#\">/content/&lt;ipython-input-11-77c571eaa00e&gt;</a>&lt;no docstring&gt;</pre></div>"
      ],
      "text/plain": [
       "<function __main__.plot_line(b)>"
      ]
     },
     "execution_count": 12,
     "metadata": {},
     "output_type": "execute_result"
    }
   ],
   "source": [
    "interact(plot_line, b=(-5.0, 5.0))"
   ]
  },
  {
   "cell_type": "markdown",
   "metadata": {
    "id": "deVzSDHkYpRP"
   },
   "source": [
    "Repasando un poco la teoría, lo que estamos haciendo es explorar un **espacio de hipótesis** (H) conformado por todas las rectas verticales, para quedarnos con una única **hipótesis** (h) o modelo que consideremos que separa mejor los datos, y por lo tanto aproxima mejor la **función objetivo** (f) a partir de los **datos** que tenemos.\n",
    "\n",
    "Estamos \"entrenando a mano\" un modelo de **aprendizaje supervisado**, puntualmente de **clasificación**, porque tenemos los datos **anotados** con la asignación de **clase** (color) de cada punto. Cada punto es por lo tanto una **instancia** o muestra, y el modelo construído va a permitirnos **predecir** una clase de acuerdo a la posición en el eje x de cada punto, siendo dicha posición el **atributo** que estamos usando para realizar la predicción. De esta manera, la **función objetivo** que nos permite separar los **datos** asignados a distintas **clases** define un **contorno de decisión** en el **espacio de atributos**."
   ]
  },
  {
   "cell_type": "markdown",
   "metadata": {
    "id": "L1ElbnE_ks2F"
   },
   "source": [
    "##Parte 3: Determinar que tan buena fue la selección\n",
    "\n",
    "Dado que vamos a usar un corte vertical, crearemos una partición en dos regiones (izquierda y derecha) y la idea sera evaluar esa partición."
   ]
  },
  {
   "cell_type": "code",
   "execution_count": 13,
   "metadata": {
    "id": "LnPoJX3Ropuk"
   },
   "outputs": [],
   "source": [
    "# Corte por valor y partición\n",
    "valor = 1\n",
    "dataset_izq = dataset[dataset[0] <= valor]\n",
    "dataset_der = dataset[dataset[0] > valor]"
   ]
  },
  {
   "cell_type": "code",
   "execution_count": 20,
   "metadata": {
    "colab": {
     "base_uri": "https://localhost:8080/",
     "height": 178
    },
    "id": "dZxQpl9wtxpT",
    "outputId": "93da2c50-6d6e-47cf-c18d-39299b7b775d"
   },
   "outputs": [
    {
     "data": {
      "text/html": [
       "<div>\n",
       "<style scoped>\n",
       "    .dataframe tbody tr th:only-of-type {\n",
       "        vertical-align: middle;\n",
       "    }\n",
       "\n",
       "    .dataframe tbody tr th {\n",
       "        vertical-align: top;\n",
       "    }\n",
       "\n",
       "    .dataframe thead th {\n",
       "        text-align: right;\n",
       "    }\n",
       "</style>\n",
       "<table border=\"1\" class=\"dataframe\">\n",
       "  <thead>\n",
       "    <tr style=\"text-align: right;\">\n",
       "      <th></th>\n",
       "      <th>count</th>\n",
       "    </tr>\n",
       "    <tr>\n",
       "      <th>Clase</th>\n",
       "      <th></th>\n",
       "    </tr>\n",
       "  </thead>\n",
       "  <tbody>\n",
       "    <tr>\n",
       "      <th>B</th>\n",
       "      <td>199</td>\n",
       "    </tr>\n",
       "    <tr>\n",
       "      <th>A</th>\n",
       "      <td>53</td>\n",
       "    </tr>\n",
       "  </tbody>\n",
       "</table>\n",
       "</div><br><label><b>dtype:</b> int64</label>"
      ],
      "text/plain": [
       "Clase\n",
       "B    199\n",
       "A     53\n",
       "Name: count, dtype: int64"
      ]
     },
     "execution_count": 20,
     "metadata": {},
     "output_type": "execute_result"
    }
   ],
   "source": [
    "dataset_der[\"Clase\"].value_counts()"
   ]
  },
  {
   "cell_type": "code",
   "execution_count": 23,
   "metadata": {
    "colab": {
     "base_uri": "https://localhost:8080/"
    },
    "id": "LrHJ609Qs0xJ",
    "outputId": "dc4cce83-34cd-430a-ee4a-619914f3df05"
   },
   "outputs": [
    {
     "name": "stdout",
     "output_type": "stream",
     "text": [
      "El lado derecho tiene un porcentaje de clase A de:  21.03174603174603  %\n"
     ]
    }
   ],
   "source": [
    "cant_der = dataset_der[\"Clase\"].value_counts()['A']/dataset_der[\"Clase\"].count()\n",
    "print(\"El lado derecho tiene un porcentaje de clase A de: \",cant_der*100,\" %\")"
   ]
  },
  {
   "cell_type": "code",
   "execution_count": 14,
   "metadata": {
    "colab": {
     "base_uri": "https://localhost:8080/",
     "height": 178
    },
    "id": "ojEy0Jtrtujg",
    "outputId": "70d2774f-7b90-4bd3-ea98-a5c19a045ec4"
   },
   "outputs": [
    {
     "data": {
      "text/html": [
       "<div>\n",
       "<style scoped>\n",
       "    .dataframe tbody tr th:only-of-type {\n",
       "        vertical-align: middle;\n",
       "    }\n",
       "\n",
       "    .dataframe tbody tr th {\n",
       "        vertical-align: top;\n",
       "    }\n",
       "\n",
       "    .dataframe thead th {\n",
       "        text-align: right;\n",
       "    }\n",
       "</style>\n",
       "<table border=\"1\" class=\"dataframe\">\n",
       "  <thead>\n",
       "    <tr style=\"text-align: right;\">\n",
       "      <th></th>\n",
       "      <th>count</th>\n",
       "    </tr>\n",
       "    <tr>\n",
       "      <th>Clase</th>\n",
       "      <th></th>\n",
       "    </tr>\n",
       "  </thead>\n",
       "  <tbody>\n",
       "    <tr>\n",
       "      <th>A</th>\n",
       "      <td>147</td>\n",
       "    </tr>\n",
       "    <tr>\n",
       "      <th>B</th>\n",
       "      <td>1</td>\n",
       "    </tr>\n",
       "  </tbody>\n",
       "</table>\n",
       "</div><br><label><b>dtype:</b> int64</label>"
      ],
      "text/plain": [
       "Clase\n",
       "A    147\n",
       "B      1\n",
       "Name: count, dtype: int64"
      ]
     },
     "execution_count": 14,
     "metadata": {},
     "output_type": "execute_result"
    }
   ],
   "source": [
    "dataset_izq[\"Clase\"].value_counts()"
   ]
  },
  {
   "cell_type": "code",
   "execution_count": 25,
   "metadata": {
    "colab": {
     "base_uri": "https://localhost:8080/"
    },
    "id": "ynP3USMlXCbF",
    "outputId": "8a380a3b-1924-44cd-9fee-41b288d807a2"
   },
   "outputs": [
    {
     "data": {
      "text/plain": [
       "np.float64(0.006756756756756757)"
      ]
     },
     "execution_count": 25,
     "metadata": {},
     "output_type": "execute_result"
    }
   ],
   "source": [
    "cant_izq"
   ]
  },
  {
   "cell_type": "code",
   "execution_count": 27,
   "metadata": {
    "colab": {
     "base_uri": "https://localhost:8080/"
    },
    "id": "nTDD2Ib_q3Iy",
    "outputId": "4d8f0aa9-c645-42d7-aa86-5a5287e6155f"
   },
   "outputs": [
    {
     "name": "stdout",
     "output_type": "stream",
     "text": [
      "El lado izquierdo tiene un porcentaje de clase B de:  0.6756756756756757 %\n"
     ]
    }
   ],
   "source": [
    "cant_izq = dataset_izq[\"Clase\"].value_counts()['B']/dataset_izq[\"Clase\"].count()\n",
    "print(\"El lado izquierdo tiene un porcentaje de clase B de: \", cant_izq*100, \"%\")"
   ]
  },
  {
   "cell_type": "markdown",
   "metadata": {
    "id": "kE-xOPn-PS95"
   },
   "source": [
    "Hagamos un repaso:\n",
    "\n",
    "![Matriz-Confusion-Ejemplo-1536x332.jpg](data:image/jpeg;base64,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)\n",
    "\n",
    "Precisión (Precision): mide la proporción de instancias positivas que fueron correctamente identificadas. Es decir, es la razón entre los verdaderos positivos y la suma de los verdaderos positivos y falsos positivos.\n",
    "\n",
    "$Precision = \\frac{TP}{TP + FP}$\n",
    "\n",
    "![precision.jpg](data:image/jpeg;base64,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)\n",
    "\n",
    "Recall (Sensibilidad o Tasa de Verdaderos Positivos): mide la proporción de instancias positivas que fueron correctamente identificadas en relación al total de instancias positivas. Es decir, es la razón entre los verdaderos positivos y la suma de los verdaderos positivos y falsos negativos.\n",
    "\n",
    "$Recall = \\frac{TP}{TP + FN}$\n",
    "\n",
    "![recall-exhaustividad.jpg](data:image/jpeg;base64,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)\n",
    "\n",
    "F1-Score: es una media armónica entre precision y recall. Es útil cuando se busca un equilibrio entre ambas métricas y se desea una medida que represente un buen desempeño global del modelo.\n",
    "\n",
    "$F1\\text{-}score = 2 * \\frac{Precision * Recall}{Precision + Recall}$\n",
    "\n",
    "Accuracy (Exactitud): mide la proporción de instancias totales que fueron correctamente clasificadas por el modelo. Es decir, es la razón entre los verdaderos positivos y verdaderos negativos y la suma de los verdaderos positivos, falsos positivos, verdaderos negativos y falsos negativos.\n",
    "\n",
    "$Accuracy = \\frac{TP + TN}{TP + FP + TN + FN}$\n",
    "\n",
    "Donde:\n",
    "\n",
    "    TP (True Positives): instancias positivas que fueron clasificadas correctamente.\n",
    "    TN (True Negatives): instancias negativas que fueron clasificadas correctamente.\n",
    "    FP (False Positives): instancias negativas que fueron clasificadas incorrectamente como positivas.\n",
    "    FN (False Negatives): instancias positivas que fueron clasificadas incorrectamente como negativas."
   ]
  },
  {
   "cell_type": "markdown",
   "metadata": {
    "id": "cU4Q01lkcg5O"
   },
   "source": [
    "### Ejercicio 1\n",
    "\n",
    "Lo que quede en el dataset de la izquierda lo vamos a clasificar como A (podría ser como B también). De forma arbitraria vamos a tomar que la izquierda es positiva. Completar el código siguiente para calcular las métricas recién definidas."
   ]
  },
  {
   "cell_type": "code",
   "execution_count": 29,
   "metadata": {
    "colab": {
     "base_uri": "https://localhost:8080/",
     "height": 178
    },
    "id": "9y70Lu2UIfNo",
    "outputId": "72d2e714-6e9f-4038-c82e-88d09c1e24b3"
   },
   "outputs": [
    {
     "data": {
      "text/html": [
       "<div>\n",
       "<style scoped>\n",
       "    .dataframe tbody tr th:only-of-type {\n",
       "        vertical-align: middle;\n",
       "    }\n",
       "\n",
       "    .dataframe tbody tr th {\n",
       "        vertical-align: top;\n",
       "    }\n",
       "\n",
       "    .dataframe thead th {\n",
       "        text-align: right;\n",
       "    }\n",
       "</style>\n",
       "<table border=\"1\" class=\"dataframe\">\n",
       "  <thead>\n",
       "    <tr style=\"text-align: right;\">\n",
       "      <th></th>\n",
       "      <th>count</th>\n",
       "    </tr>\n",
       "    <tr>\n",
       "      <th>Clase</th>\n",
       "      <th></th>\n",
       "    </tr>\n",
       "  </thead>\n",
       "  <tbody>\n",
       "    <tr>\n",
       "      <th>A</th>\n",
       "      <td>147</td>\n",
       "    </tr>\n",
       "    <tr>\n",
       "      <th>B</th>\n",
       "      <td>1</td>\n",
       "    </tr>\n",
       "  </tbody>\n",
       "</table>\n",
       "</div><br><label><b>dtype:</b> int64</label>"
      ],
      "text/plain": [
       "Clase\n",
       "A    147\n",
       "B      1\n",
       "Name: count, dtype: int64"
      ]
     },
     "execution_count": 29,
     "metadata": {},
     "output_type": "execute_result"
    }
   ],
   "source": [
    "dataset_izq[\"Clase\"].value_counts()"
   ]
  },
  {
   "cell_type": "code",
   "execution_count": 30,
   "metadata": {
    "colab": {
     "base_uri": "https://localhost:8080/",
     "height": 178
    },
    "id": "O7BVjLg9IgS4",
    "outputId": "252bbbfe-d8da-4fd6-f3c3-ee4696e086e5"
   },
   "outputs": [
    {
     "data": {
      "text/html": [
       "<div>\n",
       "<style scoped>\n",
       "    .dataframe tbody tr th:only-of-type {\n",
       "        vertical-align: middle;\n",
       "    }\n",
       "\n",
       "    .dataframe tbody tr th {\n",
       "        vertical-align: top;\n",
       "    }\n",
       "\n",
       "    .dataframe thead th {\n",
       "        text-align: right;\n",
       "    }\n",
       "</style>\n",
       "<table border=\"1\" class=\"dataframe\">\n",
       "  <thead>\n",
       "    <tr style=\"text-align: right;\">\n",
       "      <th></th>\n",
       "      <th>count</th>\n",
       "    </tr>\n",
       "    <tr>\n",
       "      <th>Clase</th>\n",
       "      <th></th>\n",
       "    </tr>\n",
       "  </thead>\n",
       "  <tbody>\n",
       "    <tr>\n",
       "      <th>B</th>\n",
       "      <td>199</td>\n",
       "    </tr>\n",
       "    <tr>\n",
       "      <th>A</th>\n",
       "      <td>53</td>\n",
       "    </tr>\n",
       "  </tbody>\n",
       "</table>\n",
       "</div><br><label><b>dtype:</b> int64</label>"
      ],
      "text/plain": [
       "Clase\n",
       "B    199\n",
       "A     53\n",
       "Name: count, dtype: int64"
      ]
     },
     "execution_count": 30,
     "metadata": {},
     "output_type": "execute_result"
    }
   ],
   "source": [
    "dataset_der[\"Clase\"].value_counts()"
   ]
  },
  {
   "cell_type": "code",
   "execution_count": 31,
   "metadata": {
    "id": "FZaWO5zAbmVI"
   },
   "outputs": [],
   "source": [
    "TP = dataset_izq[dataset_izq[\"Clase\"]==\"A\"].shape[0]\n",
    "TN = dataset_der[dataset_der[\"Clase\"]==\"B\"].shape[0]\n",
    "FP = dataset_izq[dataset_izq[\"Clase\"]==\"B\"].shape[0]\n",
    "FN = dataset_der[dataset_der[\"Clase\"]==\"A\"].shape[0]"
   ]
  },
  {
   "cell_type": "code",
   "execution_count": 32,
   "metadata": {
    "colab": {
     "base_uri": "https://localhost:8080/"
    },
    "id": "TKlxdTbNdVyP",
    "outputId": "f05ffdd6-5c21-4d11-beb9-1b63169159c0"
   },
   "outputs": [
    {
     "name": "stdout",
     "output_type": "stream",
     "text": [
      "La precisión es  0.9932432432432432\n",
      "La sensibilidad es  0.735\n",
      "El F1 es  0.8448275862068965\n",
      "La exactitud es  0.865\n"
     ]
    }
   ],
   "source": [
    "precision = TP / (TP + FP)\n",
    "print(\"La precisión es \", precision)\n",
    "recall = TP / (TP + FN)\n",
    "print(\"La sensibilidad es \", recall)\n",
    "F1 = 2 * precision * recall / (precision + recall)\n",
    "print(\"El F1 es \",F1)\n",
    "accuracy = (TP + TN) / (TP + TN + FP + FN)\n",
    "print(\"La exactitud es \", accuracy)"
   ]
  },
  {
   "cell_type": "markdown",
   "metadata": {
    "id": "kT4Q_RcjqbZ4"
   },
   "source": [
    "## Parte 4: Determinar el corte óptimo\n",
    "\n",
    "Ya tenemos una función que divide nuestros datos en grupos, y calculamos las diferentes métricas.\n",
    "\n",
    "Ahora necesitamos que calculen el valor óptimo de *corte* a partir de calcular las métricas para diferentes valores de la variable *corte*.\n",
    "\n",
    "### Ejercicio 2\n",
    "\n",
    "Elijan una métrica de las mencionadas anteriormente y completen según lo indicado las siguientes celdas de código."
   ]
  },
  {
   "cell_type": "code",
   "execution_count": 35,
   "metadata": {
    "id": "69LM28LWUUxy"
   },
   "outputs": [],
   "source": [
    "dataset.loc[dataset[\"Clase\"] == \"A\", \"Clase\"] = 0\n",
    "dataset.loc[dataset[\"Clase\"] == \"B\", \"Clase\"] = 1"
   ]
  },
  {
   "cell_type": "code",
   "execution_count": 38,
   "metadata": {
    "colab": {
     "base_uri": "https://localhost:8080/",
     "height": 458
    },
    "id": "v9vr5KYuYXVw",
    "outputId": "22eb557d-e55a-4f37-da63-96107604c5b9"
   },
   "outputs": [
    {
     "data": {
      "text/html": [
       "<div>\n",
       "<style scoped>\n",
       "    .dataframe tbody tr th:only-of-type {\n",
       "        vertical-align: middle;\n",
       "    }\n",
       "\n",
       "    .dataframe tbody tr th {\n",
       "        vertical-align: top;\n",
       "    }\n",
       "\n",
       "    .dataframe thead th {\n",
       "        text-align: right;\n",
       "    }\n",
       "</style>\n",
       "<table border=\"1\" class=\"dataframe\">\n",
       "  <thead>\n",
       "    <tr style=\"text-align: right;\">\n",
       "      <th></th>\n",
       "      <th>0</th>\n",
       "    </tr>\n",
       "  </thead>\n",
       "  <tbody>\n",
       "    <tr>\n",
       "      <th>0</th>\n",
       "      <td>0</td>\n",
       "    </tr>\n",
       "    <tr>\n",
       "      <th>1</th>\n",
       "      <td>0</td>\n",
       "    </tr>\n",
       "    <tr>\n",
       "      <th>2</th>\n",
       "      <td>0</td>\n",
       "    </tr>\n",
       "    <tr>\n",
       "      <th>3</th>\n",
       "      <td>0</td>\n",
       "    </tr>\n",
       "    <tr>\n",
       "      <th>4</th>\n",
       "      <td>0</td>\n",
       "    </tr>\n",
       "    <tr>\n",
       "      <th>...</th>\n",
       "      <td>...</td>\n",
       "    </tr>\n",
       "    <tr>\n",
       "      <th>95</th>\n",
       "      <td>1</td>\n",
       "    </tr>\n",
       "    <tr>\n",
       "      <th>96</th>\n",
       "      <td>1</td>\n",
       "    </tr>\n",
       "    <tr>\n",
       "      <th>97</th>\n",
       "      <td>0</td>\n",
       "    </tr>\n",
       "    <tr>\n",
       "      <th>98</th>\n",
       "      <td>0</td>\n",
       "    </tr>\n",
       "    <tr>\n",
       "      <th>99</th>\n",
       "      <td>0</td>\n",
       "    </tr>\n",
       "  </tbody>\n",
       "</table>\n",
       "<p>400 rows × 1 columns</p>\n",
       "</div><br><label><b>dtype:</b> int64</label>"
      ],
      "text/plain": [
       "0     0\n",
       "1     0\n",
       "2     0\n",
       "3     0\n",
       "4     0\n",
       "     ..\n",
       "95    1\n",
       "96    1\n",
       "97    0\n",
       "98    0\n",
       "99    0\n",
       "Name: 0, Length: 400, dtype: int64"
      ]
     },
     "execution_count": 38,
     "metadata": {},
     "output_type": "execute_result"
    }
   ],
   "source": [
    "def predecir_clase(data: pd.DataFrame,\n",
    "                   col: int,\n",
    "                   corte: float):\n",
    "    # esta funcion recibe \"data\", un dataframe donde seleccionaremos col, la columna que utilizaremos para cortar\n",
    "    # esta funcion devuelve un array con tantos valores como filas del dataframe, diciendo a que clase deberia pertenecer\n",
    "    predicho = (data.iloc[:, col] >= corte).astype(int)\n",
    "    return predicho\n",
    "\n",
    "predicho=predecir_clase(dataset, 0, 1)\n",
    "predicho"
   ]
  },
  {
   "cell_type": "code",
   "execution_count": 39,
   "metadata": {
    "colab": {
     "base_uri": "https://localhost:8080/",
     "height": 178
    },
    "id": "HDAKls3X3x7t",
    "outputId": "3d898f18-8a4f-4ca2-f86b-62e16f7d6782"
   },
   "outputs": [
    {
     "data": {
      "text/html": [
       "<div>\n",
       "<style scoped>\n",
       "    .dataframe tbody tr th:only-of-type {\n",
       "        vertical-align: middle;\n",
       "    }\n",
       "\n",
       "    .dataframe tbody tr th {\n",
       "        vertical-align: top;\n",
       "    }\n",
       "\n",
       "    .dataframe thead th {\n",
       "        text-align: right;\n",
       "    }\n",
       "</style>\n",
       "<table border=\"1\" class=\"dataframe\">\n",
       "  <thead>\n",
       "    <tr style=\"text-align: right;\">\n",
       "      <th></th>\n",
       "      <th>count</th>\n",
       "    </tr>\n",
       "    <tr>\n",
       "      <th>0</th>\n",
       "      <th></th>\n",
       "    </tr>\n",
       "  </thead>\n",
       "  <tbody>\n",
       "    <tr>\n",
       "      <th>1</th>\n",
       "      <td>252</td>\n",
       "    </tr>\n",
       "    <tr>\n",
       "      <th>0</th>\n",
       "      <td>148</td>\n",
       "    </tr>\n",
       "  </tbody>\n",
       "</table>\n",
       "</div><br><label><b>dtype:</b> int64</label>"
      ],
      "text/plain": [
       "0\n",
       "1    252\n",
       "0    148\n",
       "Name: count, dtype: int64"
      ]
     },
     "execution_count": 39,
     "metadata": {},
     "output_type": "execute_result"
    }
   ],
   "source": [
    "predicho.value_counts()"
   ]
  },
  {
   "cell_type": "code",
   "execution_count": 45,
   "metadata": {
    "colab": {
     "base_uri": "https://localhost:8080/"
    },
    "id": "YkO9pM3L3vFQ",
    "outputId": "95a7b81d-09a3-469d-92cf-3acfa7bcb982"
   },
   "outputs": [
    {
     "name": "stdout",
     "output_type": "stream",
     "text": [
      "Accuracy:  0.8649999999997838\n",
      "Precision: 0.7896825396822263\n",
      "Recall:    0.9949999999995026\n",
      "F1:        0.8805309734015997\n"
     ]
    }
   ],
   "source": [
    "def predecir_clase(data: pd.DataFrame, col: int, corte: float) -> pd.Series:\n",
    "    return (data.iloc[:, col] >= corte).astype(int)\n",
    "\n",
    "def calcular_matriz_confusion(clase_real: pd.Series, clase_predicha: pd.Series):\n",
    "    TP = np.sum((clase_real == 1) & (clase_predicha == 1))\n",
    "    TN = np.sum((clase_real == 0) & (clase_predicha == 0))\n",
    "    FP = np.sum((clase_real == 0) & (clase_predicha == 1))\n",
    "    FN = np.sum((clase_real == 1) & (clase_predicha == 0))\n",
    "    return TP, TN, FP, FN\n",
    "\n",
    "def calcular_metricas(data: pd.DataFrame, col: int, corte: float):\n",
    "    clase_predicha = predecir_clase(data, col, corte)\n",
    "    clase_real     = data[\"Clase\"]\n",
    "\n",
    "    TP, TN, FP, FN = calcular_matriz_confusion(clase_real, clase_predicha)\n",
    "\n",
    "    # Para evitar división por cero, pongo un pequeño epsilon\n",
    "    eps = 1e-10\n",
    "    precision = TP / (TP + FP + eps)\n",
    "    recall    = TP / (TP + FN + eps)\n",
    "    F1        = 2 * precision * recall / (precision + recall + eps)\n",
    "    accuracy  = (TP + TN) / (TP + TN + FP + FN + eps)\n",
    "\n",
    "    return accuracy, precision, recall, F1\n",
    "\n",
    "accuracy, precision, recall, F1 = calcular_metricas(dataset, 0, 1)\n",
    "\n",
    "print(\"Accuracy: \", accuracy)\n",
    "print(\"Precision:\", precision)\n",
    "print(\"Recall:   \", recall)\n",
    "print(\"F1:       \", F1)"
   ]
  },
  {
   "cell_type": "markdown",
   "metadata": {
    "id": "lgSbdmFwxMSv"
   },
   "source": [
    "### Ejercicio 3\n",
    "\n",
    "Utilicen las funciones recién creadas y recorran un vector de cortes para encontrar el mejor de ellos según alguna métrica. ¿Cuál resulto ser el mejor corte para accuracy según la primera columna?"
   ]
  },
  {
   "cell_type": "code",
   "execution_count": 46,
   "metadata": {
    "colab": {
     "base_uri": "https://localhost:8080/"
    },
    "id": "3zEdgor45kQY",
    "outputId": "cc810259-f88b-47c0-81e3-468734ceca35"
   },
   "outputs": [
    {
     "name": "stdout",
     "output_type": "stream",
     "text": [
      "Mejor corte para la columna 0 (Accuracy): 1.600000000000004\n",
      "Mejor accuracy para la columna 0: 0.8949999999997763\n",
      "Mejor corte para la columna 0 (Precision): 1.900000000000004\n",
      "Mejor precision para la columna 0: 0.9440993788814013\n",
      "Mejor corte para la columna 0 (Recall): -3.0\n",
      "Mejor recall para la columna 0: 0.9999999999995001\n",
      "Mejor corte para la columna 0 (F1): 1.600000000000004\n",
      "Mejor F1 para la columna 0: 0.8928571428067081\n"
     ]
    }
   ],
   "source": [
    "# Generamos los posibles cortes\n",
    "l1 = np.arange(-3, 2, 0.1)\n",
    "\n",
    "# Inicializamos las variables para almacenar las mejores métricas y sus respectivos cortes\n",
    "mejor_accuracy = 0\n",
    "mejor_corte_accuracy = None\n",
    "mejor_precision = 0\n",
    "mejor_corte_precision = None\n",
    "mejor_recall = 0\n",
    "mejor_corte_recall = None\n",
    "mejor_F1 = 0\n",
    "mejor_corte_F1 = None\n",
    "\n",
    "# Iteramos sobre cada posible corte en l1\n",
    "for corte in l1:\n",
    "    accuracy, precision, recall, F1 = calcular_metricas(dataset, 0, corte)\n",
    "\n",
    "    # Verificamos si esta precisión es la mejor hasta ahora para cada métrica\n",
    "    if accuracy > mejor_accuracy:\n",
    "        mejor_accuracy = accuracy\n",
    "        mejor_corte_accuracy = corte\n",
    "\n",
    "    if precision > mejor_precision:\n",
    "        mejor_precision = precision\n",
    "        mejor_corte_precision = corte\n",
    "\n",
    "    if recall > mejor_recall:\n",
    "        mejor_recall = recall\n",
    "        mejor_corte_recall = corte\n",
    "\n",
    "    if F1 > mejor_F1:\n",
    "        mejor_F1 = F1\n",
    "        mejor_corte_F1 = corte\n",
    "\n",
    "# Imprimimos los mejores cortes y sus respectivas métricas\n",
    "print(\"Mejor corte para la columna 0 (Accuracy):\", mejor_corte_accuracy)\n",
    "print(\"Mejor accuracy para la columna 0:\", mejor_accuracy)\n",
    "print(\"Mejor corte para la columna 0 (Precision):\", mejor_corte_precision)\n",
    "print(\"Mejor precision para la columna 0:\", mejor_precision)\n",
    "print(\"Mejor corte para la columna 0 (Recall):\", mejor_corte_recall)\n",
    "print(\"Mejor recall para la columna 0:\", mejor_recall)\n",
    "print(\"Mejor corte para la columna 0 (F1):\", mejor_corte_F1)\n",
    "print(\"Mejor F1 para la columna 0:\", mejor_F1)\n"
   ]
  }
 ],
 "metadata": {
  "colab": {
   "provenance": []
  },
  "kernelspec": {
   "display_name": "Python 3",
   "name": "python3"
  }
 },
 "nbformat": 4,
 "nbformat_minor": 0
}